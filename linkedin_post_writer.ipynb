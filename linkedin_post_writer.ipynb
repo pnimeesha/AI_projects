{
 "cells": [
  {
   "cell_type": "markdown",
   "id": "11c076dd-4e32-431c-9793-e0784197e3d1",
   "metadata": {},
   "source": [
    "## Fine-tuning GPT-4o to Write LinkedIn Posts \n"
   ]
  },
  {
   "cell_type": "markdown",
   "id": "7c7812b7-9bb9-47da-8116-f6af553e18c5",
   "metadata": {},
   "source": [
    "### imports"
   ]
  },
  {
   "cell_type": "code",
   "execution_count": 1,
   "id": "8369ae91-d925-4ed1-9a85-32fb8e64a153",
   "metadata": {},
   "outputs": [],
   "source": [
    "import os\n",
    "import csv\n",
    "import json\n",
    "import random\n",
    "\n",
    "from openai import OpenAI\n",
    "from dotenv import load_dotenv"
   ]
  },
  {
   "cell_type": "code",
   "execution_count": 2,
   "id": "7f67fe3b-4926-4ece-b3d7-7e77fbf73a28",
   "metadata": {},
   "outputs": [],
   "source": [
    "# import sk from .env file\n",
    "load_dotenv()\n",
    "my_sk = os.getenv(\"OPENAI_API_KEY\")\n",
    "\n",
    "# connect to openai API\n",
    "client = OpenAI(api_key=my_sk)"
   ]
  },
  {
   "cell_type": "markdown",
   "id": "b67b2a2d-75c7-4913-b603-93127ece77fc",
   "metadata": {},
   "source": [
    "### Read data"
   ]
  },
  {
   "cell_type": "code",
   "execution_count": 3,
   "id": "4bc4f088-1331-4de4-a252-c60210479042",
   "metadata": {},
   "outputs": [],
   "source": [
    "# load csv of YouTube comments\n",
    "idea_list = []\n",
    "copy_list = []\n",
    "media_list = []\n",
    "\n",
    "with open('data/LI_posts.csv', mode ='r') as file:\n",
    "    file = csv.reader(file)\n",
    "    \n",
    "    # read file line by line\n",
    "    for line in file:\n",
    "        # skip first line\n",
    "        if line[0]=='Idea':\n",
    "            continue\n",
    "            \n",
    "        # append comments and responses to respective lists\n",
    "        idea_list.append(line[0])\n",
    "        copy_list.append(line[1])\n",
    "        media_list.append(line[2])"
   ]
  },
  {
   "cell_type": "code",
   "execution_count": 4,
   "id": "5bb3cc63-84cb-40ff-bc75-ad40447d46a3",
   "metadata": {},
   "outputs": [
    {
     "name": "stdout",
     "output_type": "stream",
     "text": [
      "50\n",
      "50\n",
      "50\n"
     ]
    }
   ],
   "source": [
    "print(len(idea_list))\n",
    "print(len(copy_list))\n",
    "print(len(media_list))"
   ]
  },
  {
   "cell_type": "markdown",
   "id": "9afd558b-b292-4582-a965-04ebeb46c403",
   "metadata": {},
   "source": [
    "### Create training examples"
   ]
  },
  {
   "cell_type": "code",
   "execution_count": null,
   "id": "f6ed7112-b939-41d4-9fc2-077c9c85229a",
   "metadata": {},
   "outputs": [],
   "source": [
    "# construct training examples\n",
    "example_list = []\n",
    "\n",
    "system_prompt = \"LinkedIn Post Writer for nimeesha, AI educator and entrepreneur\"\n",
    "\n",
    "prompt_template = lambda idea_string : f\"\"\"Write a LinkedIn post based on the following idea:\n",
    "{idea_string}\n",
    "\n",
    "Include:\n",
    "- A compelling opening line that hooks the reader\n",
    "- Copy that expands upon the idea in valuable way\n",
    "- A call to action or share relevant content\n",
    "\n",
    "Output:\n",
    "\"\"\"\n",
    "\n",
    "for i in range(len(idea_list)):    \n",
    "    system_dict = {\"role\": \"system\", \"content\": system_prompt}\n",
    "    user_dict = {\"role\": \"user\", \"content\": prompt_template(idea_list[i])}\n",
    "    assistant_dict = {\"role\": \"assistant\", \"content\": copy_list[i] + \"\\n\\n--\\nMedia: \" + media_list[i]}\n",
    "    \n",
    "    messages_list = [system_dict, user_dict, assistant_dict]\n",
    "    \n",
    "    example_list.append({\"messages\": messages_list})"
   ]
  },
  {
   "cell_type": "code",
   "execution_count": 6,
   "id": "1c847ac6-89de-413f-a7c4-854e9a514658",
   "metadata": {},
   "outputs": [
    {
     "name": "stdout",
     "output_type": "stream",
     "text": [
      "LinkedIn Post Writer for Shaw Talebi, AI educator and entrepreneur\n",
      "Write a LinkedIn post based on the following idea:\n",
      "3 types of AI Tik Tok\n",
      "\n",
      "Include:\n",
      "- A compelling opening line that hooks the reader\n",
      "- Copy that expands upon the idea in valuable way\n",
      "- A call to action or share relevant content\n",
      "\n",
      "Output:\n",
      "\n",
      "A problem with AI today is that it means different things to different people. \n",
      "\n",
      "This framework from Andrej Karpathy helped give me much more clarity 👇 \n",
      "\n",
      "Software 1.0 = Rule-based software systems. Humans program computers to solve problems step-by-step. \n",
      "\n",
      "Software 2.0 = Computers program themselves by seeing examples (i.e. machine learning) \n",
      "\n",
      "Software 3.0 = Repurposing general-purpose ML models for specific use cases (i.e. GenAI + Foundation Models) \n",
      "\n",
      "But… what’s Software 4.0 going to be? 🤔\n",
      "\n",
      "--\n",
      "Media: Video\n"
     ]
    }
   ],
   "source": [
    "print(example_list[0]['messages'][0]['content'])\n",
    "print(example_list[0]['messages'][1]['content'])\n",
    "print(example_list[0]['messages'][2]['content'])"
   ]
  },
  {
   "cell_type": "code",
   "execution_count": 7,
   "id": "daa80954-4589-4850-8b69-b2427828247b",
   "metadata": {},
   "outputs": [
    {
     "data": {
      "text/plain": [
       "50"
      ]
     },
     "execution_count": 7,
     "metadata": {},
     "output_type": "execute_result"
    }
   ],
   "source": [
    "len(example_list)"
   ]
  },
  {
   "cell_type": "markdown",
   "id": "39301b03-69be-4f2c-b7fd-44e17a22be2a",
   "metadata": {},
   "source": [
    "### Create train/validation split"
   ]
  },
  {
   "cell_type": "code",
   "execution_count": 8,
   "id": "6d43a2f6-b5b8-40c6-92c9-f4ac00c35643",
   "metadata": {},
   "outputs": [],
   "source": [
    "# randomly pick out validation examples\n",
    "num_examples = 10\n",
    "validation_index_list = random.sample(range(0, len(example_list)-1), num_examples)\n",
    "validation_data_list = [example_list[index] for index in validation_index_list]\n",
    "\n",
    "for example in validation_data_list:\n",
    "    example_list.remove(example)"
   ]
  },
  {
   "cell_type": "code",
   "execution_count": 9,
   "id": "7bf38b30-6c4e-4956-96e6-b7bc5f92423f",
   "metadata": {},
   "outputs": [
    {
     "name": "stdout",
     "output_type": "stream",
     "text": [
      "40\n",
      "10\n"
     ]
    }
   ],
   "source": [
    "print(len(example_list))\n",
    "print(len(validation_data_list))"
   ]
  },
  {
   "cell_type": "code",
   "execution_count": 10,
   "id": "09999da1-e0a4-4bee-949d-c31006dad700",
   "metadata": {},
   "outputs": [],
   "source": [
    "# write examples to file\n",
    "with open('data/train-data.jsonl', 'w') as train_file:\n",
    "    for example in example_list:\n",
    "        json.dump(example, train_file)\n",
    "        train_file.write('\\n')\n",
    "\n",
    "with open('data/valid-data.jsonl', 'w') as valid_file:\n",
    "    for example in validation_data_list:\n",
    "        json.dump(example, valid_file)\n",
    "        valid_file.write('\\n')"
   ]
  },
  {
   "cell_type": "markdown",
   "id": "ce1eb41d-f61b-493e-b2dc-1abc458ba9a4",
   "metadata": {},
   "source": [
    "### Upload data to OpenAI"
   ]
  },
  {
   "cell_type": "code",
   "execution_count": 11,
   "id": "4f3ff2b6-7530-48f9-837b-86000d7f72c6",
   "metadata": {},
   "outputs": [],
   "source": [
    "train_file = client.files.create(\n",
    "  file = open(\"data/train-data.jsonl\", \"rb\"),\n",
    "  purpose = \"fine-tune\"\n",
    ")\n",
    "\n",
    "valid_file = client.files.create(\n",
    "  file = open(\"data/valid-data.jsonl\", \"rb\"),\n",
    "  purpose = \"fine-tune\"\n",
    ")"
   ]
  },
  {
   "cell_type": "markdown",
   "id": "d753629d-45e5-4d0f-b0bd-0bef1c51062c",
   "metadata": {},
   "source": [
    "### Fine-tune model"
   ]
  },
  {
   "cell_type": "code",
   "execution_count": 12,
   "id": "88425464-a1ec-4230-a025-19f9a848a73a",
   "metadata": {},
   "outputs": [
    {
     "data": {
      "text/plain": [
       "FineTuningJob(id='ftjob-RYFplALfaMCYJ3scagskHjzO', created_at=1739558189, error=Error(code=None, message=None, param=None), fine_tuned_model=None, finished_at=None, hyperparameters=Hyperparameters(batch_size='auto', learning_rate_multiplier='auto', n_epochs='auto'), model='gpt-4o-mini-2024-07-18', object='fine_tuning.job', organization_id='org-KjWERyZ9WLUqIdrdMeJh4zC0', result_files=[], seed=9759071, status='validating_files', trained_tokens=None, training_file='file-3jt78N7NMBvSUqJB5GXEp3', validation_file='file-RHzARoSBdgxVaUFbG1CYTz', estimated_finish=None, integrations=[], method=Method(dpo=None, supervised=MethodSupervised(hyperparameters=MethodSupervisedHyperparameters(batch_size='auto', learning_rate_multiplier='auto', n_epochs='auto')), type='supervised'), user_provided_suffix='LI-post-writer')"
      ]
     },
     "execution_count": 12,
     "metadata": {},
     "output_type": "execute_result"
    }
   ],
   "source": [
    "client.fine_tuning.jobs.create(\n",
    "    training_file = train_file.id,\n",
    "    validation_file = valid_file.id,\n",
    "    suffix = \"LI-post-writer\",\n",
    "    model = \"gpt-4o-mini-2024-07-18\"\n",
    ")"
   ]
  },
  {
   "cell_type": "markdown",
   "id": "3c650e56-77a0-4a76-a52e-6d9194fb6278",
   "metadata": {},
   "source": [
    "### Evaluate fine-tuned model"
   ]
  },
  {
   "cell_type": "code",
   "execution_count": 13,
   "id": "dd26bc6e-7bee-45f2-88a2-e419de0fb762",
   "metadata": {},
   "outputs": [],
   "source": [
    "def generate_post(system_prompt, model_name, idea):\n",
    "    response = client.chat.completions.create(\n",
    "        model=model_name,\n",
    "        messages=[\n",
    "        {\"role\": \"system\", \"content\": system_prompt},\n",
    "        {\"role\": \"user\", \"content\": prompt_template(idea)}\n",
    "        ],\n",
    "        temperature=1,\n",
    "    )\n",
    "    return response.choices[0].message.content"
   ]
  },
  {
   "cell_type": "code",
   "execution_count": 14,
   "id": "9f95063f-5bbb-4f21-b454-b7e28af46dcf",
   "metadata": {},
   "outputs": [
    {
     "data": {
      "text/plain": [
       "{'messages': [{'role': 'system',\n",
       "   'content': 'LinkedIn Post Writer for Shaw Talebi, AI educator and entrepreneur'},\n",
       "  {'role': 'user',\n",
       "   'content': 'Write a LinkedIn post based on the following idea:\\nEvolution of OCR and sharing YouTube video on multimodal AI\\n\\nInclude:\\n- A compelling opening line that hooks the reader\\n- Copy that expands upon the idea in valuable way\\n- A call to action or share relevant content\\n\\nOutput:\\n'},\n",
       "  {'role': 'assistant',\n",
       "   'content': \"5 years ago, sentiment analysis and OCR required specialized ML skills. \\n\\nToday, however, these are trivially done by off-the-shelf AI systems... \\n\\nModels like GPT-4o and LLaMA 3.2 Vision can seamlessly process text and image data. \\n\\nThis combination is important because text inputs provide users with an interface to readily adapt the model's behavior to endless NLP and CV tasks. \\n\\nFor example, reading scanned invoices, defect detection, chart analysis, coding apps based on design mockups, visual question answering, and much more. \\n\\nIn my latest YouTube video, I shared how to use LLaMA 3.2 Vision (locally) to perform various bespoke CV tasks. \\n\\nCheck it out here 👇 \\n\\nhttps://lnkd.in/gFXJAPB6\\n\\n--\\nMedia: Image\"}]}"
      ]
     },
     "execution_count": 14,
     "metadata": {},
     "output_type": "execute_result"
    }
   ],
   "source": [
    "validation_data_list[0]"
   ]
  },
  {
   "cell_type": "code",
   "execution_count": 15,
   "id": "7f5b4455-b219-4fee-95ec-d99ab052acbd",
   "metadata": {},
   "outputs": [],
   "source": [
    "idea = \"How I’d Learn AI in 2025 (If I Knew Nothing). Step 1: Use ChatGPT (or the like).Step 2: Install Python.Step 3: Build an Automation (Beginner).Step 4: Build an ML Project (Intermediate).Step 5: Build a Real-world Project (Advanced)Promote blog.\""
   ]
  },
  {
   "cell_type": "code",
   "execution_count": null,
   "id": "17be2632-d9ee-44b9-9569-19e274f0709f",
   "metadata": {},
   "outputs": [
    {
     "name": "stdout",
     "output_type": "stream",
     "text": [
      "Imagine learning AI in 2025, starting from scratch—completely uncharted territory for many, yet more achievable than ever. 🚀\n",
      "\n",
      "In a landscape where artificial intelligence continues to redefine industries, stepping into this field might feel daunting. But with the right steps, anyone can become adept at navigating this fascinating world. Here's how:\n",
      "\n",
      "1. **Start with AI basics:** Use tools like ChatGPT to familiarize yourself with AI's capabilities and potential. These platforms are incredibly interactive and can serve as your very first glimpse into AI.\n",
      "\n",
      "2. **Get your hands dirty with Python:** Installing Python is like securing your passport for the AI journey. Start writing small scripts to understand syntax and logic, the building blocks of more sophisticated AI models.\n",
      "\n",
      "3. **Automate the mundane (Beginner):** Begin by automating simple tasks. These could be anything from script-based email sorting to basic data entry operations. Automation gives you a tangible sense of AI’s practicality.\n",
      "\n",
      "4. **Take on an ML project (Intermediate):** Once comfortable, build an intermediate machine learning project. Think stock prediction algorithms or sentiment analysis using curated datasets—projects that challenge your analytical thinking.\n",
      "\n",
      "5. **Solve real-world problems (Advanced):** With some experience under your belt, tackle advanced projects that impact your community or industry. This could range from optimizing supply chain logistics to personal health tracking—real-world applications that hold significant value.\n",
      "\n",
      "The path to proficiency in AI lies in gradual progression, building confidence and competence step by step.🔍\n",
      "\n",
      "For more detailed guidance on navigating this pathway, including resources and practical tips, check out the latest blog post I've penned. Let's make AI accessible one step at a time! [Link to the blog]\n",
      "\n",
      "How would you embark on this journey? Share your thoughts and experiences below! 👇\n"
     ]
    }
   ],
   "source": [
    "# GPT-4o (no fine-tuning)\n",
    "model_name = \"gpt-4o\"\n",
    "system_prompt_long = \"You are an AI assistant helping nimeesha, an AI educator and entrepreneur, craft LinkedIn posts. Your goal is to generate posts \\\n",
    "that reflect nimeesha's voice: authoritative yet approachable, insightful yet concise. nimeesha's posts aim to educate and inspire professionals \\\n",
    "in the tech and AI space. Focus on providing value, discussing new trends, or offering actionable advice, while keeping the tone professional but \\\n",
    "conversational. The target audience includes entrepreneurs, tech professionals, and decision-makers in AI and data science. Always ensure the post is \\\n",
    "relevant, engaging, and on-brand for nimeesha's public persona.\"\n",
    "\n",
    "# print(system_prompt_long, \"\\n--\")\n",
    "print(generate_post(system_prompt_long, model_name, idea))"
   ]
  },
  {
   "cell_type": "code",
   "execution_count": 17,
   "id": "5cc2e3fb-a692-47eb-87e8-4e9ae788f0ac",
   "metadata": {},
   "outputs": [
    {
     "name": "stdout",
     "output_type": "stream",
     "text": [
      "3 Steps to Learning AI in 2025 (If Starting from 0) A lot has changed since I learned data science 5 years ago…. Here’s how I would approach it today 👇 \n",
      "\n",
      "1) Use a chatbot (like ChatGPT). \n",
      "\n",
      "2) Install Python. \n",
      "\n",
      "3) Build a simple Automation (Beginner) \n",
      "\n",
      "4) Build an ML project (Intermediate). \n",
      "\n",
      "5) Build a real-world project (Advanced).\n",
      "\n",
      " \n",
      "P.S. For those wondering why step 1 isn't learn Python... Even if you don't know how to code, you can still automate stuff using ChatGPT :) \n",
      "\n",
      "👉 Blog: 7 Ways a Beginner Can Get Started with Data Science (Today)\n",
      "\n",
      "--\n",
      "Media: Article screenshot\n"
     ]
    }
   ],
   "source": [
    "# GPT-4o-mini (fine-tuned)\n",
    "model_name = \"ft:gpt-4o-mini-2024-07-18:shawhin-talebi-ventures-llc:li-post-writer:B0ZwZdhg\"\n",
    "\n",
    "# print(system_prompt, \"\\n--\")\n",
    "print(generate_post(system_prompt, model_name, idea))"
   ]
  },
  {
   "cell_type": "code",
   "execution_count": 18,
   "id": "55c2cd55-477e-464f-8480-f9e354fb4341",
   "metadata": {},
   "outputs": [],
   "source": [
    "# # delete files (after fine-tuning is done)\n",
    "# client.files.delete(train_file.id)\n",
    "# client.files.delete(valid_file.id)"
   ]
  }
 ],
 "metadata": {
  "kernelspec": {
   "display_name": "Python 3 (ipykernel)",
   "language": "python",
   "name": "python3"
  },
  "language_info": {
   "codemirror_mode": {
    "name": "ipython",
    "version": 3
   },
   "file_extension": ".py",
   "mimetype": "text/x-python",
   "name": "python",
   "nbconvert_exporter": "python",
   "pygments_lexer": "ipython3",
   "version": "3.12.2"
  }
 },
 "nbformat": 4,
 "nbformat_minor": 5
}
