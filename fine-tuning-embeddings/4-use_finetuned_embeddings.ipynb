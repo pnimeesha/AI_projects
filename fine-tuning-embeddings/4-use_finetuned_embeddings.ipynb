{
 "cells": [
  {
   "cell_type": "markdown",
   "id": "4734a604-73a2-4f51-9383-eb7312989151",
   "metadata": {},
   "source": [
    "# Use Fine-tuned Model\n",
    "\n",
    "Based on example from [here](https://sbert.net/docs/sentence_transformer/training_overview.html#trainer)"
   ]
  },
  {
   "cell_type": "markdown",
   "id": "521f48ed-9bdf-476d-9995-2eab9398ffd0",
   "metadata": {},
   "source": [
    "### imports"
   ]
  },
  {
   "cell_type": "code",
   "execution_count": 1,
   "id": "73ac9cee-913d-420d-8cfb-df8a663db457",
   "metadata": {},
   "outputs": [],
   "source": [
    "from sentence_transformers import SentenceTransformer\n",
    "from datasets import load_dataset\n",
    "import numpy as np"
   ]
  },
  {
   "cell_type": "markdown",
   "id": "5a460324-33cc-448d-99af-fa8db865fbb9",
   "metadata": {},
   "source": [
    "### load model"
   ]
  },
  {
   "cell_type": "code",
   "execution_count": null,
   "id": "21e56316-ee49-4076-be55-dbbe0259620f",
   "metadata": {},
   "outputs": [
    {
     "data": {
      "application/vnd.jupyter.widget-view+json": {
       "model_id": "6327f4cabe244a93ad10fb2f1236a1a8",
       "version_major": 2,
       "version_minor": 0
      },
      "text/plain": [
       "modules.json:   0%|          | 0.00/349 [00:00<?, ?B/s]"
      ]
     },
     "metadata": {},
     "output_type": "display_data"
    },
    {
     "data": {
      "application/vnd.jupyter.widget-view+json": {
       "model_id": "f80d48a4e755470d88f9ce340adfa6ff",
       "version_major": 2,
       "version_minor": 0
      },
      "text/plain": [
       "config_sentence_transformers.json:   0%|          | 0.00/199 [00:00<?, ?B/s]"
      ]
     },
     "metadata": {},
     "output_type": "display_data"
    },
    {
     "data": {
      "application/vnd.jupyter.widget-view+json": {
       "model_id": "55fa86c688b04fdf81ea64315d162143",
       "version_major": 2,
       "version_minor": 0
      },
      "text/plain": [
       "README.md:   0%|          | 0.00/73.7k [00:00<?, ?B/s]"
      ]
     },
     "metadata": {},
     "output_type": "display_data"
    },
    {
     "data": {
      "application/vnd.jupyter.widget-view+json": {
       "model_id": "10bd02c9c96e40acae26ff6c0ed47908",
       "version_major": 2,
       "version_minor": 0
      },
      "text/plain": [
       "sentence_bert_config.json:   0%|          | 0.00/53.0 [00:00<?, ?B/s]"
      ]
     },
     "metadata": {},
     "output_type": "display_data"
    },
    {
     "data": {
      "application/vnd.jupyter.widget-view+json": {
       "model_id": "fc8f8846c6b94436b17bf492ae4f2915",
       "version_major": 2,
       "version_minor": 0
      },
      "text/plain": [
       "config.json:   0%|          | 0.00/730 [00:00<?, ?B/s]"
      ]
     },
     "metadata": {},
     "output_type": "display_data"
    },
    {
     "data": {
      "application/vnd.jupyter.widget-view+json": {
       "model_id": "65f05f23f4a94afab516ca22af077cfa",
       "version_major": 2,
       "version_minor": 0
      },
      "text/plain": [
       "model.safetensors:   0%|          | 0.00/328M [00:00<?, ?B/s]"
      ]
     },
     "metadata": {},
     "output_type": "display_data"
    },
    {
     "data": {
      "application/vnd.jupyter.widget-view+json": {
       "model_id": "b87f7718d9aa4b828f2538d12312d885",
       "version_major": 2,
       "version_minor": 0
      },
      "text/plain": [
       "tokenizer_config.json:   0%|          | 0.00/1.44k [00:00<?, ?B/s]"
      ]
     },
     "metadata": {},
     "output_type": "display_data"
    },
    {
     "data": {
      "application/vnd.jupyter.widget-view+json": {
       "model_id": "0f2cc260a50a459fa87a677b255e12a1",
       "version_major": 2,
       "version_minor": 0
      },
      "text/plain": [
       "vocab.json:   0%|          | 0.00/798k [00:00<?, ?B/s]"
      ]
     },
     "metadata": {},
     "output_type": "display_data"
    },
    {
     "data": {
      "application/vnd.jupyter.widget-view+json": {
       "model_id": "4f876bfeaeb34b6d876a3e41fc67eecf",
       "version_major": 2,
       "version_minor": 0
      },
      "text/plain": [
       "merges.txt:   0%|          | 0.00/456k [00:00<?, ?B/s]"
      ]
     },
     "metadata": {},
     "output_type": "display_data"
    },
    {
     "data": {
      "application/vnd.jupyter.widget-view+json": {
       "model_id": "0b8775f49ba44b58b7fdc5183a86aef4",
       "version_major": 2,
       "version_minor": 0
      },
      "text/plain": [
       "tokenizer.json:   0%|          | 0.00/3.56M [00:00<?, ?B/s]"
      ]
     },
     "metadata": {},
     "output_type": "display_data"
    },
    {
     "data": {
      "application/vnd.jupyter.widget-view+json": {
       "model_id": "2642dfe5bcad420389420264f63f2fcf",
       "version_major": 2,
       "version_minor": 0
      },
      "text/plain": [
       "special_tokens_map.json:   0%|          | 0.00/964 [00:00<?, ?B/s]"
      ]
     },
     "metadata": {},
     "output_type": "display_data"
    },
    {
     "data": {
      "application/vnd.jupyter.widget-view+json": {
       "model_id": "1489aea1d0484c3cbce58826980da3f9",
       "version_major": 2,
       "version_minor": 0
      },
      "text/plain": [
       "1_Pooling/config.json:   0%|          | 0.00/296 [00:00<?, ?B/s]"
      ]
     },
     "metadata": {},
     "output_type": "display_data"
    }
   ],
   "source": [
    "model = SentenceTransformer(\"pnimeesha/distilroberta-ai-job-embeddings\")"
   ]
  },
  {
   "cell_type": "markdown",
   "id": "37a3221b-3a4f-459b-8f1e-9ffc48a4fe2a",
   "metadata": {},
   "source": [
    "### load data"
   ]
  },
  {
   "cell_type": "code",
   "execution_count": null,
   "id": "2fa3a678-89c1-48bb-82c3-bda708eb48e9",
   "metadata": {},
   "outputs": [],
   "source": [
    "dataset = load_dataset(\"pnimeesha/ai-job-embedding-finetuning\")"
   ]
  },
  {
   "cell_type": "markdown",
   "id": "5821b19d-259e-403b-af39-2aa63fe5d9f6",
   "metadata": {},
   "source": [
    "### use it!"
   ]
  },
  {
   "cell_type": "code",
   "execution_count": 4,
   "id": "fbc9487b-1443-432c-8286-8676f59b93db",
   "metadata": {},
   "outputs": [
    {
     "name": "stdout",
     "output_type": "stream",
     "text": [
      "torch.Size([1, 102])\n"
     ]
    }
   ],
   "source": [
    "# new query\n",
    "query = \"data scienist 6 year experience, LLMs, credit risk, content marketing\"\n",
    "query_embedding = model.encode(query)\n",
    "\n",
    "# encode JDs\n",
    "jd_embeddings = model.encode(dataset[\"test\"][\"job_description_pos\"])\n",
    "\n",
    "# compute similarities\n",
    "similarities = model.similarity(query_embedding, jd_embeddings)\n",
    "print(similarities.shape)"
   ]
  },
  {
   "cell_type": "code",
   "execution_count": 7,
   "id": "573cec42-4a66-444d-b927-4dcb6a475b56",
   "metadata": {},
   "outputs": [
    {
     "data": {
      "text/plain": [
       "'Skills/Attributes: Data Analysis, Loan Processing, Microsoft Office, SQL Job Description\\n**Only those lawfully authorized to work in the designated country associated with the position will be considered.**\\n**Please note that all Position start dates and duration are estimates and may be reduced or lengthened based upon a client’s business needs and requirements.**\\nRequired Education:• Bachelors/University degree\\nRequired Qualifications:• 10+ years of experience in finance/ project management• Experience and proficiency in building data pipelines and performing analytics using KNIME (or similar software• Experience creating team SharePoint sites and maintaining content to make information and documents easily accessible• Proficiency with Visual Basic for Applications (VBA) for Microsoft Office• Proficiency with SQL and relational database management systems• Strong proficiency with Microsoft Excel• Significant experience building end-user tools with Microsoft Access• Additional experience and knowledge for Internal Candidate• Experience in using Lynx UI, Optima Cognos Reporting Tool, (Facility Management, Collateral), and extracting data from Data Globe (especially data schemas: DGSTREAM, DGFU, DGREF & DGLOBE)• Good understanding of Loan data hierarchy (Request/Credit Agreement/Facility/GFRN) in Lynx'"
      ]
     },
     "execution_count": 7,
     "metadata": {},
     "output_type": "execute_result"
    }
   ],
   "source": [
    "# sort JDs based on similarity\n",
    "simiarities_argsorted = np.argsort(similarities.numpy(), axis=1)\n",
    "\n",
    "# return most similar job description\n",
    "dataset[\"test\"][\"job_description_pos\"][int(simiarities_argsorted[0][-1])]"
   ]
  },
  {
   "cell_type": "code",
   "execution_count": null,
   "id": "090fba8c-bfe4-4ae8-b1b6-894f8b76a995",
   "metadata": {},
   "outputs": [],
   "source": []
  }
 ],
 "metadata": {
  "kernelspec": {
   "display_name": "Python 3 (ipykernel)",
   "language": "python",
   "name": "python3"
  },
  "language_info": {
   "codemirror_mode": {
    "name": "ipython",
    "version": 3
   },
   "file_extension": ".py",
   "mimetype": "text/x-python",
   "name": "python",
   "nbconvert_exporter": "python",
   "pygments_lexer": "ipython3",
   "version": "3.12.8"
  }
 },
 "nbformat": 4,
 "nbformat_minor": 5
}
